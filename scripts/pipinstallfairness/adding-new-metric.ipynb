{
 "cells": [
  {
   "cell_type": "markdown",
   "metadata": {},
   "source": [
    "# Adding a new metric\n",
    "\n",
    "In this notebook, we will add a simple new metric to the system. Specifically, we will use sklearn's F1 score.\n",
    "\n",
    "We start with the usual imports, and add scikit-learn to the list:"
   ]
  },
  {
   "cell_type": "code",
   "execution_count": null,
   "metadata": {},
   "outputs": [],
   "source": [
    "# We'll suppress warnings because both altair and sklearn are\n",
    "# emitting lots of them, and they're annoying in a demo setting.\n",
    "\n",
    "import warnings\n",
    "warnings.filterwarnings(\"ignore\")\n",
    "\n",
    "import altair as alt\n",
    "# Ask Altair to produce output that works on Jupyter Notebook\n",
    "alt.renderers.enable('notebook')\n",
    "\n",
    "import fairness\n",
    "import fairness.benchmark\n",
    "\n",
    "import sklearn.metrics"
   ]
  },
  {
   "cell_type": "code",
   "execution_count": null,
   "metadata": {},
   "outputs": [],
   "source": [
    "from fairness.metrics.Metric import Metric\n",
    "\n",
    "class F1Score(Metric):\n",
    "    def __init__(self):\n",
    "        Metric.__init__(self)\n",
    "        self.name = 'f1score'\n",
    "    def calc(self, actual, predicted, *args):\n",
    "        return sklearn.metrics.f1_score(actual, predicted)\n",
    "\n",
    "fairness.add_metric(F1Score())"
   ]
  },
  {
   "cell_type": "code",
   "execution_count": null,
   "metadata": {},
   "outputs": [],
   "source": [
    "fairness.benchmark.run(algorithm=[\"Feldman-DecisionTree\", \"DecisionTree\"], dataset=[\"ricci\"])"
   ]
  },
  {
   "cell_type": "code",
   "execution_count": null,
   "metadata": {},
   "outputs": [],
   "source": [
    "ricci_Race = fairness.get_dataset_by_name(\"ricci\").get_results_data_frame(\"Race\", \"numerical-binsensitive\")"
   ]
  },
  {
   "cell_type": "code",
   "execution_count": null,
   "metadata": {},
   "outputs": [],
   "source": [
    "list(ricci_Race.columns.values)"
   ]
  },
  {
   "cell_type": "code",
   "execution_count": null,
   "metadata": {},
   "outputs": [],
   "source": [
    "alt.Chart(ricci_Race).mark_point().encode(\n",
    "    x='accuracy',\n",
    "    y='f1score',\n",
    "    color='algorithm'\n",
    ")"
   ]
  },
  {
   "cell_type": "markdown",
   "metadata": {},
   "source": [
    "## Parameterized metrics\n",
    "\n",
    "We provide some parameterized metrics, like `SensitiveMetric`, which takes a subordinate metric as a parameter and returns the average of the metric result conditioned on the sensitive attribute. For example:"
   ]
  },
  {
   "cell_type": "code",
   "execution_count": null,
   "metadata": {},
   "outputs": [],
   "source": [
    "from fairness.metrics.SensitiveMetric import SensitiveMetric\n",
    "\n",
    "fairness.add_metric(SensitiveMetric(F1Score))"
   ]
  },
  {
   "cell_type": "code",
   "execution_count": null,
   "metadata": {},
   "outputs": [],
   "source": [
    "fairness.benchmark.run(algorithm=[\"Feldman-DecisionTree\", \"DecisionTree\"], dataset=[\"ricci\"])"
   ]
  },
  {
   "cell_type": "code",
   "execution_count": null,
   "metadata": {},
   "outputs": [],
   "source": [
    "ricci_Race = fairness.get_dataset_by_name(\"ricci\").get_results_data_frame(\"Race\", \"numerical-binsensitive\")"
   ]
  },
  {
   "cell_type": "markdown",
   "metadata": {},
   "source": [
    "Note the presence of the columns `Race-f1score`, `Race-f1scoreDiff`, and `Race-f1scoreRatio`:"
   ]
  },
  {
   "cell_type": "code",
   "execution_count": null,
   "metadata": {},
   "outputs": [],
   "source": [
    "list(ricci_Race.columns.values)"
   ]
  },
  {
   "cell_type": "code",
   "execution_count": null,
   "metadata": {},
   "outputs": [],
   "source": [
    "ricci_Race[\"Race_f1score\"] = ricci_Race[\"Race-f1score\"] # work around bug in plotting library\n",
    "ricci_Race[\"Race_f1scoreDiff\"] = ricci_Race[\"Race-f1scoreDiff\"] # work around bug in plotting library\n",
    "alt.Chart(ricci_Race).mark_point().encode(\n",
    "    x='accuracy',\n",
    "    y='Race_f1scoreDiff',\n",
    "    color='algorithm'\n",
    ")"
   ]
  },
  {
   "cell_type": "code",
   "execution_count": null,
   "metadata": {},
   "outputs": [],
   "source": []
  }
 ],
 "metadata": {
  "kernelspec": {
   "display_name": "Python 3",
   "language": "python",
   "name": "python3"
  },
  "language_info": {
   "codemirror_mode": {
    "name": "ipython",
    "version": 3
   },
   "file_extension": ".py",
   "mimetype": "text/x-python",
   "name": "python",
   "nbconvert_exporter": "python",
   "pygments_lexer": "ipython3",
   "version": "3.6.3"
  }
 },
 "nbformat": 4,
 "nbformat_minor": 2
}
