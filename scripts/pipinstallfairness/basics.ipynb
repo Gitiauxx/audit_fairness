{
 "cells": [
  {
   "cell_type": "markdown",
   "metadata": {},
   "source": [
    "# Basics\n",
    "\n",
    "The `fairness` package does a few nice things for you. For example, it provides a standardized access to different ways of preprocessing a dataset:"
   ]
  },
  {
   "cell_type": "code",
   "execution_count": null,
   "metadata": {},
   "outputs": [],
   "source": [
    "from fairness.data.objects.Ricci import Ricci\n",
    "from fairness.data.objects.ProcessedData import ProcessedData\n",
    "ricci = ProcessedData(Ricci())"
   ]
  },
  {
   "cell_type": "code",
   "execution_count": null,
   "metadata": {},
   "outputs": [],
   "source": [
    "ricci.get_dataframe(\"original\")"
   ]
  },
  {
   "cell_type": "code",
   "execution_count": null,
   "metadata": {},
   "outputs": [],
   "source": [
    "ricci.get_dataframe(\"numerical-binsensitive\")"
   ]
  },
  {
   "cell_type": "markdown",
   "metadata": {},
   "source": [
    "## Necessary imports\n",
    "We'll be using these throughout the tutorial."
   ]
  },
  {
   "cell_type": "code",
   "execution_count": null,
   "metadata": {},
   "outputs": [],
   "source": [
    "# We'll suppress warnings because both altair and sklearn are\n",
    "# emitting lots of them, and they're annoying in a demo setting.\n",
    "\n",
    "import warnings\n",
    "warnings.filterwarnings(\"ignore\")\n",
    "\n",
    "import altair as alt\n",
    "# Ask Altair to produce output that works on Jupyter Notebook\n",
    "alt.renderers.enable('notebook')"
   ]
  },
  {
   "cell_type": "code",
   "execution_count": null,
   "metadata": {},
   "outputs": [],
   "source": [
    "import fairness\n",
    "import fairness.benchmark"
   ]
  },
  {
   "cell_type": "markdown",
   "metadata": {},
   "source": [
    "In order to run specific algorithms and datasets, pass them as parameters to `fairness.benchmark.run`. Do note that if you don't pass these parameters, `fairness` will run all available algorithms on all available datasets, which will take a *very* long time (about a week on a single processor in our machines)!"
   ]
  },
  {
   "cell_type": "code",
   "execution_count": null,
   "metadata": {},
   "outputs": [],
   "source": [
    "fairness.benchmark.run(algorithm=[\"LR\", \"Feldman-LR\"], dataset=[\"ricci\"])"
   ]
  },
  {
   "cell_type": "markdown",
   "metadata": {},
   "source": [
    "You can then access the results per dataset, sensitive attribute, and preprocessing option:"
   ]
  },
  {
   "cell_type": "code",
   "execution_count": null,
   "metadata": {},
   "outputs": [],
   "source": [
    "ricci_Race = fairness.get_dataset_by_name(\"ricci\").get_results_data_frame(\"Race\", \"numerical-binsensitive\")"
   ]
  },
  {
   "cell_type": "code",
   "execution_count": null,
   "metadata": {},
   "outputs": [],
   "source": [
    "# So many measures!\n",
    "list(ricci_Race.columns.values)"
   ]
  },
  {
   "cell_type": "markdown",
   "metadata": {},
   "source": [
    "To show a final example of what you can get out of `fairness`, we produce a simple plot of accuracy vs (binarized) disparate impact where color is used to differentiate algorithms:"
   ]
  },
  {
   "cell_type": "code",
   "execution_count": null,
   "metadata": {},
   "outputs": [],
   "source": [
    "ricci_Race = ricci_Race[ricci_Race.algorithm.str.contains(\"LR\")]"
   ]
  },
  {
   "cell_type": "code",
   "execution_count": null,
   "metadata": {},
   "outputs": [],
   "source": [
    "alt.Chart(ricci_Race).mark_point().encode(\n",
    "    x='accuracy',\n",
    "    y='DIbinary',\n",
    "    color='algorithm'\n",
    ")"
   ]
  },
  {
   "cell_type": "code",
   "execution_count": null,
   "metadata": {},
   "outputs": [],
   "source": []
  }
 ],
 "metadata": {
  "kernelspec": {
   "display_name": "Python 3",
   "language": "python",
   "name": "python3"
  },
  "language_info": {
   "codemirror_mode": {
    "name": "ipython",
    "version": 3
   },
   "file_extension": ".py",
   "mimetype": "text/x-python",
   "name": "python",
   "nbconvert_exporter": "python",
   "pygments_lexer": "ipython3",
   "version": "3.6.4"
  }
 },
 "nbformat": 4,
 "nbformat_minor": 2
}
