{
 "cells": [
  {
   "cell_type": "code",
   "execution_count": 1,
   "metadata": {
    "scrolled": true
   },
   "outputs": [
    {
     "name": "stderr",
     "output_type": "stream",
     "text": [
      "C:\\Anaconda36\\lib\\importlib\\_bootstrap.py:219: RuntimeWarning: numpy.dtype size changed, may indicate binary incompatibility. Expected 96, got 88\n",
      "  return f(*args, **kwds)\n",
      "C:\\Anaconda36\\lib\\site-packages\\h5py\\__init__.py:36: FutureWarning: Conversion of the second argument of issubdtype from `float` to `np.floating` is deprecated. In future, it will be treated as `np.float64 == np.dtype(float).type`.\n",
      "  from ._conv import register_converters as _register_converters\n",
      "Using TensorFlow backend.\n"
     ]
    }
   ],
   "source": [
    "from aufair.simulations import repairs_method as rm\n",
    "import pandas as pd\n",
    "import numpy as np\n",
    "\n",
    "from sklearn.ensemble import RandomForestClassifier\n",
    "from fairness.algorithms.baseline.LogisticRegression import LogisticRegression as LR\n",
    "from fairness.algorithms.feldman import FeldmanAlgorithm as fa\n",
    "from fairlearn import moments\n",
    "from fairlearn import classred as red\n",
    "from fairness.algorithms.baseline.SVM import SVM\n",
    "from fairness.algorithms.feldman import FeldmanAlgorithm as fa\n",
    "from sklearn.linear_model import LogisticRegression"
   ]
  },
  {
   "cell_type": "code",
   "execution_count": 2,
   "metadata": {},
   "outputs": [],
   "source": [
    "data_dict = {}"
   ]
  },
  {
   "cell_type": "code",
   "execution_count": null,
   "metadata": {},
   "outputs": [],
   "source": []
  },
  {
   "cell_type": "code",
   "execution_count": 3,
   "metadata": {},
   "outputs": [],
   "source": [
    "# test adults data\n",
    "# train and test data\n",
    "train = pd.read_csv('..\\\\..\\\\..\\\\data\\\\adult_income_dataset.csv')\n",
    "\n",
    "# clean features\n",
    "train['workclass'] = train['workclass'].astype('category').cat.codes\n",
    "train['education'] = train['education'].astype('category').cat.codes\n",
    "train['occupation'] = train['occupation'].astype('category').cat.codes\n",
    "train['relationship'] = train['relationship'].astype('category').cat.codes\n",
    "train['marital-status'] = train['marital-status'].astype('category').cat.codes\n",
    "train['income'] = train['income_bracket'].astype('category').cat.codes\n",
    "train['gender'] =  train['sex'].astype('category').cat.codes\n",
    "train['srace'] =  train['race'].astype('category').cat.codes\n",
    "train['income'] = -2 * train.income + 1\n",
    "\n",
    "test = pd.read_csv('..\\\\..\\\\..\\\\data\\\\adult_income_test.csv')\n",
    "# clean features\n",
    "test['workclass'] = test['workclass'].astype('category').cat.codes\n",
    "test['education'] = test['education'].astype('category').cat.codes\n",
    "test['occupation'] = test['occupation'].astype('category').cat.codes\n",
    "test['relationship'] = test['relationship'].astype('category').cat.codes\n",
    "test['marital-status'] = test['marital-status'].astype('category').cat.codes\n",
    "test['income'] = test['income_bracket'].astype('category').cat.codes\n",
    "test['gender'] =  test['sex'].astype('category').cat.codes\n",
    "test['srace'] =  test['race'].astype('category').cat.codes\n",
    "\n",
    "# define outcome and attribute\n",
    "train['Y'] = 2 * (train['income_bracket'] == ' <=50K').astype('int32') - 1\n",
    "test['Y'] = 2 * (test['income_bracket'] == ' <=50K.').astype('int32') - 1\n",
    "train['attr'] = 2 * (train.sex == ' Female').astype('int32') - 1\n",
    "test['attr'] = 2 * (test.sex == ' Female').astype('int32') - 1\n",
    "\n",
    "feature_list = ['age', 'workclass', 'education',  'occupation', \n",
    "                'hours-per-week', 'education-num', 'srace', 'gender', 'marital-status']\n",
    "features_auditing = ['age', 'workclass', 'education',  'occupation',\n",
    "                    'hours-per-week', 'education-num']\n",
    "\n",
    "data_dict['adult'] = {'train':train, 'test':test, 'features':feature_list, 'auditing_features': features_auditing}\n",
    "\n"
   ]
  },
  {
   "cell_type": "code",
   "execution_count": 4,
   "metadata": {},
   "outputs": [],
   "source": [
    "# auditing parameters\n",
    "protected = ('attr', 1)\n",
    "yname = 'outcome'\n",
    "certification = pd.DataFrame()\n",
    "certification.index.name = 'Experiment'\n",
    "data = test.copy()\n",
    "auditor = RandomForestClassifier(n_estimators=100, max_depth=2)"
   ]
  },
  {
   "cell_type": "code",
   "execution_count": 5,
   "metadata": {},
   "outputs": [],
   "source": [
    "# german credit\n",
    "german = pd.read_csv('https://raw.githubusercontent.com/algofairness/fairness-comparison/master/fairness/data/preprocessed/german_numerical-binsensitive.csv')\n",
    "german['Y'] = 2 * (german['credit'] == 1) - 1\n",
    "german['attr'] = 2 * (german['sex'] == 1) - 1\n",
    "features = [c for c in list(set(german.columns)) if c not in ['sex', 'credit', 'sex-age', 'age', 'attr', 'Y']]\n",
    "data_dict['german'] = {'train':german, 'test':german, 'features':features, 'auditing_features': features}\n",
    "\n"
   ]
  },
  {
   "cell_type": "code",
   "execution_count": 15,
   "metadata": {},
   "outputs": [],
   "source": [
    "# compas\n",
    "data = pd.read_csv('..\\\\..\\\\..\\\\data\\\\compas-scores-two-years.csv')\n",
    "\n",
    "# create categorical data for age_cat, sex, race and charge degree\n",
    "data['gender'] = data.sex.astype('category').cat.codes\n",
    "data['age_cat'] = data.age_cat.astype('category').cat.codes\n",
    "data['charge_degree'] = data.c_charge_degree.astype('category').cat.codes\n",
    "data['crace'] = data.race.astype('category').cat.codes\n",
    "data['is_violent_recid'] = data.is_violent_recid.astype('category').cat.codes\n",
    "data['juv_fel_count'] = data.juv_fel_count.astype('category').cat.codes\n",
    "data['is_recid'] = data.is_recid.astype('category').cat.codes\n",
    "data['count_race'] = data['priors_count'] * data['crace']\n",
    "data['outcome'] = 2 * (data.v_score_text.isin(['High'])).astype('int32') - 1\n",
    "data['high_risk'] = (data.outcome == 1).astype('int32')\n",
    "\n",
    "data['Y'] = data['outcome']\n",
    "data['attr'] = 2 * (data['race'] == 'African-American').astype('int32') - 1\n",
    "\n",
    "feature_list = ['age_cat',  'priors_count', 'charge_degree', 'juv_fel_count', 'juv_misd_count']\n",
    "features_auditing = ['age_cat',  'priors_count', 'charge_degree', 'juv_fel_count', 'juv_misd_count']\n",
    "data_dict['compas'] = {'train':data, 'test':data, 'features':feature_list, 'auditing_features':features_auditing}"
   ]
  },
  {
   "cell_type": "code",
   "execution_count": 16,
   "metadata": {},
   "outputs": [],
   "source": [
    "# report table \n",
    "report = pd.DataFrame()"
   ]
  },
  {
   "cell_type": "code",
   "execution_count": null,
   "metadata": {},
   "outputs": [
    {
     "name": "stdout",
     "output_type": "stream",
     "text": [
      "adult\n"
     ]
    },
    {
     "name": "stderr",
     "output_type": "stream",
     "text": [
      "C:\\Anaconda36\\lib\\site-packages\\sklearn\\linear_model\\logistic.py:433: FutureWarning: Default solver will be changed to 'lbfgs' in 0.22. Specify a solver to silence this warning.\n",
      "  FutureWarning)\n"
     ]
    },
    {
     "name": "stdout",
     "output_type": "stream",
     "text": [
      "german\n"
     ]
    },
    {
     "name": "stderr",
     "output_type": "stream",
     "text": [
      "C:\\Anaconda36\\lib\\site-packages\\sklearn\\linear_model\\logistic.py:433: FutureWarning: Default solver will be changed to 'lbfgs' in 0.22. Specify a solver to silence this warning.\n",
      "  FutureWarning)\n"
     ]
    },
    {
     "name": "stdout",
     "output_type": "stream",
     "text": [
      "compas\n"
     ]
    },
    {
     "name": "stderr",
     "output_type": "stream",
     "text": [
      "C:\\Anaconda36\\lib\\site-packages\\sklearn\\linear_model\\logistic.py:433: FutureWarning: Default solver will be changed to 'lbfgs' in 0.22. Specify a solver to silence this warning.\n",
      "  FutureWarning)\n"
     ]
    }
   ],
   "source": [
    "# logistic regression\n",
    "logreg = LR()\n",
    "for dataname in data_dict.keys():\n",
    "    print(dataname)\n",
    "    train = data_dict[dataname]['train']\n",
    "    data = data_dict[dataname]['test']\n",
    "    feature_list = data_dict[dataname]['features']\n",
    "    \n",
    "    pred, _ = logreg.run(train[feature_list + ['attr', 'Y']], data[feature_list + ['attr', 'Y']], 'Y', 1, ['attr'], 'attr', 1, {'lambda': 1.0})\n",
    "    data['outcome'] = pred\n",
    "    print(data.outcome.describe())\n",
    "    features_auditing = data_dict[dataname]['auditing_features']\n",
    "    audit = rm.audit(logreg, auditor, features_auditing, protected, yname)\n",
    "    audit.standardize(data)\n",
    "    violations, delta, delta_sd, tpp, tpp_sd = audit.get_violations(nboot=1)\n",
    "    violations['experiment'] = 'lr'\n",
    "    report.loc['baseline_logreg', 'delta_{}'.format(dataname)] = delta\n",
    "    report.loc['baseline_logreg', 'delta_sd_{}'.format(dataname)] = delta_sd\n",
    "    report.loc['baseline_logreg', 'tpp_{}'.format(dataname)] = tpp\n",
    "    report.loc['baseline_logreg', 'tpp_sd_{}'.format(dataname)] = tpp_sd"
   ]
  },
  {
   "cell_type": "code",
   "execution_count": 8,
   "metadata": {},
   "outputs": [
    {
     "data": {
      "text/html": [
       "<div>\n",
       "<style scoped>\n",
       "    .dataframe tbody tr th:only-of-type {\n",
       "        vertical-align: middle;\n",
       "    }\n",
       "\n",
       "    .dataframe tbody tr th {\n",
       "        vertical-align: top;\n",
       "    }\n",
       "\n",
       "    .dataframe thead th {\n",
       "        text-align: right;\n",
       "    }\n",
       "</style>\n",
       "<table border=\"1\" class=\"dataframe\">\n",
       "  <thead>\n",
       "    <tr style=\"text-align: right;\">\n",
       "      <th></th>\n",
       "      <th>delta_adult</th>\n",
       "      <th>delta_sd_adult</th>\n",
       "      <th>tpp_adult</th>\n",
       "      <th>tpp_sd_adult</th>\n",
       "      <th>delta_german</th>\n",
       "      <th>delta_sd_german</th>\n",
       "      <th>tpp_german</th>\n",
       "      <th>tpp_sd_german</th>\n",
       "    </tr>\n",
       "  </thead>\n",
       "  <tbody>\n",
       "    <tr>\n",
       "      <th>baseline_logreg</th>\n",
       "      <td>1.849103</td>\n",
       "      <td>0.433316</td>\n",
       "      <td>1.101796</td>\n",
       "      <td>0.003415</td>\n",
       "      <td>1.096498</td>\n",
       "      <td>0.11131</td>\n",
       "      <td>1.038484</td>\n",
       "      <td>0.021711</td>\n",
       "    </tr>\n",
       "  </tbody>\n",
       "</table>\n",
       "</div>"
      ],
      "text/plain": [
       "                 delta_adult  delta_sd_adult  tpp_adult  tpp_sd_adult  \\\n",
       "baseline_logreg     1.849103        0.433316   1.101796      0.003415   \n",
       "\n",
       "                 delta_german  delta_sd_german  tpp_german  tpp_sd_german  \n",
       "baseline_logreg      1.096498          0.11131    1.038484       0.021711  "
      ]
     },
     "execution_count": 8,
     "metadata": {},
     "output_type": "execute_result"
    }
   ],
   "source": [
    "report"
   ]
  },
  {
   "cell_type": "raw",
   "metadata": {},
   "source": [
    "report"
   ]
  },
  {
   "cell_type": "code",
   "execution_count": 18,
   "metadata": {},
   "outputs": [
    {
     "name": "stderr",
     "output_type": "stream",
     "text": [
      "C:\\Anaconda36\\lib\\site-packages\\sklearn\\svm\\base.py:196: FutureWarning: The default value of gamma will change from 'auto' to 'scale' in version 0.22 to account better for unscaled features. Set gamma explicitly to 'auto' or 'scale' to avoid this warning.\n",
      "  \"avoid this warning.\", FutureWarning)\n"
     ]
    }
   ],
   "source": [
    "# svm\n",
    "svm = SVM()\n",
    "for dataname in data_dict.keys():\n",
    "    train = data_dict[dataname]['train']\n",
    "    data = data_dict[dataname]['test']\n",
    "    feature_list = data_dict[dataname]['features']\n",
    "    \n",
    "    pred, _ = svm.run(train[feature_list + ['attr', 'Y']], data[feature_list + ['attr', 'Y']], 'Y', 1, ['attr'], 'attr', 1, {'lambda': 1.0})\n",
    "    data['outcome'] = pred\n",
    "    features_auditing = data_dict[dataname]['auditing_features']\n",
    "    audit = rm.audit(svm, auditor, features_auditing, protected, yname)\n",
    "    audit.standardize(data)\n",
    "    violations, delta, delta_sd, tpp, tpp_sd = audit.get_violations(nboot=10)\n",
    "    violations['experiment'] = 'svm'\n",
    "    report.loc['baseline_svm', 'delta_{}'.format(dataname)] = delta\n",
    "    report.loc['baseline_svm', 'delta_sd_{}'.format(dataname)] = delta_sd\n",
    "    report.loc['baseline_svm', 'tpp_{}'.format(dataname)] = tpp\n",
    "    report.loc['baseline_svm', 'tpp_sd_{}'.format(dataname)] = tpp_sd\n"
   ]
  },
  {
   "cell_type": "code",
   "execution_count": 22,
   "metadata": {},
   "outputs": [
    {
     "name": "stderr",
     "output_type": "stream",
     "text": [
      "C:\\Anaconda36\\lib\\site-packages\\sklearn\\linear_model\\logistic.py:433: FutureWarning: Default solver will be changed to 'lbfgs' in 0.22. Specify a solver to silence this warning.\n",
      "  FutureWarning)\n"
     ]
    }
   ],
   "source": [
    "# feldman lr\n",
    "feldman = fa.FeldmanAlgorithm(LR())\n",
    "for dataname in data_dict.keys():\n",
    "    train = data_dict[dataname]['train']\n",
    "    data = data_dict[dataname]['test']\n",
    "    feature_list = data_dict[dataname]['features']\n",
    "    \n",
    "    pred, _ = feldman.run(train[feature_list + ['attr', 'Y']], data[feature_list + ['attr', 'Y']], 'Y', 1, ['attr'], 'attr', 1, {'lambda': 1.0})\n",
    "    data['outcome'] = pred\n",
    "    features_auditing = data_dict[dataname]['auditing_features']\n",
    "    audit = rm.audit(feldman, auditor, features_auditing, protected, yname)\n",
    "    audit.standardize(data)\n",
    "    violations, delta, delta_sd, tpp, tpp_sd = audit.get_violations(nboot=10)\n",
    "    violations['experiment'] = 'fa_lr'\n",
    "    report.loc['feldman_lr', 'delta_{}'.format(dataname)] = delta\n",
    "    report.loc['feldman_lr', 'delta_sd_{}'.format(dataname)] = delta_sd\n",
    "    report.loc['feldman_lr', 'tpp_{}'.format(dataname)] = tpp\n",
    "    report.loc['feldman_lr', 'tpp_sd_{}'.format(dataname)] = tpp_sd\n"
   ]
  },
  {
   "cell_type": "code",
   "execution_count": 14,
   "metadata": {},
   "outputs": [],
   "source": [
    "# feldman svm\n",
    "feldman_svm = fa.FeldmanAlgorithm(SVM())\n",
    "for dataname in data_dict.keys():\n",
    "    train = data_dict[dataname]['train']\n",
    "    data = data_dict[dataname]['test']\n",
    "    feature_list = data_dict[dataname]['features']\n",
    "    \n",
    "    pred, _ = feldman_svm.run(train[feature_list + ['attr', 'Y']], data[feature_list + ['attr', 'Y']], 'Y', 1, ['attr'], 'attr', 1, {'lambda': 1.0})\n",
    "    data['outcome'] = pred\n",
    "    features_auditing = data_dict[dataname]['auditing_features']\n",
    "    audit = rm.audit(feldman_svm, auditor, features_auditing, protected, yname)\n",
    "    audit.standardize(data)\n",
    "    violations, delta, delta_sd, tpp, tpp_sd = audit.get_violations(nboot=10)\n",
    "    violations['experiment'] = 'fa_svm'\n",
    "    report.loc['feldman_svm', 'delta_{}'.format(dataname)] = delta\n",
    "    report.loc['feldman_svm', 'delta_sd_{}'.format(dataname)] = delta_sd\n",
    "    report.loc['feldman_svm', 'tpp_{}'.format(dataname)] = tpp\n",
    "    report.loc['feldman_svm', 'tpp_sd_{}'.format(dataname)] = tpp_sd\n"
   ]
  },
  {
   "cell_type": "code",
   "execution_count": 35,
   "metadata": {},
   "outputs": [
    {
     "name": "stderr",
     "output_type": "stream",
     "text": [
      "C:\\Anaconda36\\lib\\site-packages\\sklearn\\linear_model\\logistic.py:433: FutureWarning: Default solver will be changed to 'lbfgs' in 0.22. Specify a solver to silence this warning.\n",
      "  FutureWarning)\n",
      "C:\\Anaconda36\\lib\\site-packages\\sklearn\\linear_model\\logistic.py:433: FutureWarning: Default solver will be changed to 'lbfgs' in 0.22. Specify a solver to silence this warning.\n",
      "  FutureWarning)\n",
      "C:\\Anaconda36\\lib\\site-packages\\sklearn\\linear_model\\logistic.py:433: FutureWarning: Default solver will be changed to 'lbfgs' in 0.22. Specify a solver to silence this warning.\n",
      "  FutureWarning)\n",
      "C:\\Anaconda36\\lib\\site-packages\\sklearn\\linear_model\\logistic.py:433: FutureWarning: Default solver will be changed to 'lbfgs' in 0.22. Specify a solver to silence this warning.\n",
      "  FutureWarning)\n",
      "C:\\Anaconda36\\lib\\site-packages\\sklearn\\linear_model\\logistic.py:433: FutureWarning: Default solver will be changed to 'lbfgs' in 0.22. Specify a solver to silence this warning.\n",
      "  FutureWarning)\n",
      "C:\\Anaconda36\\lib\\site-packages\\sklearn\\linear_model\\logistic.py:433: FutureWarning: Default solver will be changed to 'lbfgs' in 0.22. Specify a solver to silence this warning.\n",
      "  FutureWarning)\n",
      "C:\\Anaconda36\\lib\\site-packages\\sklearn\\linear_model\\logistic.py:433: FutureWarning: Default solver will be changed to 'lbfgs' in 0.22. Specify a solver to silence this warning.\n",
      "  FutureWarning)\n",
      "C:\\Anaconda36\\lib\\site-packages\\sklearn\\linear_model\\logistic.py:433: FutureWarning: Default solver will be changed to 'lbfgs' in 0.22. Specify a solver to silence this warning.\n",
      "  FutureWarning)\n",
      "C:\\Anaconda36\\lib\\site-packages\\sklearn\\linear_model\\logistic.py:433: FutureWarning: Default solver will be changed to 'lbfgs' in 0.22. Specify a solver to silence this warning.\n",
      "  FutureWarning)\n",
      "C:\\Anaconda36\\lib\\site-packages\\sklearn\\linear_model\\logistic.py:433: FutureWarning: Default solver will be changed to 'lbfgs' in 0.22. Specify a solver to silence this warning.\n",
      "  FutureWarning)\n",
      "C:\\Anaconda36\\lib\\site-packages\\sklearn\\linear_model\\logistic.py:433: FutureWarning: Default solver will be changed to 'lbfgs' in 0.22. Specify a solver to silence this warning.\n",
      "  FutureWarning)\n",
      "C:\\Anaconda36\\lib\\site-packages\\sklearn\\linear_model\\logistic.py:433: FutureWarning: Default solver will be changed to 'lbfgs' in 0.22. Specify a solver to silence this warning.\n",
      "  FutureWarning)\n",
      "C:\\Anaconda36\\lib\\site-packages\\sklearn\\linear_model\\logistic.py:433: FutureWarning: Default solver will be changed to 'lbfgs' in 0.22. Specify a solver to silence this warning.\n",
      "  FutureWarning)\n",
      "C:\\Anaconda36\\lib\\site-packages\\sklearn\\linear_model\\logistic.py:433: FutureWarning: Default solver will be changed to 'lbfgs' in 0.22. Specify a solver to silence this warning.\n",
      "  FutureWarning)\n",
      "C:\\Anaconda36\\lib\\site-packages\\sklearn\\linear_model\\logistic.py:433: FutureWarning: Default solver will be changed to 'lbfgs' in 0.22. Specify a solver to silence this warning.\n",
      "  FutureWarning)\n",
      "C:\\Anaconda36\\lib\\site-packages\\sklearn\\linear_model\\logistic.py:433: FutureWarning: Default solver will be changed to 'lbfgs' in 0.22. Specify a solver to silence this warning.\n",
      "  FutureWarning)\n",
      "C:\\Anaconda36\\lib\\site-packages\\sklearn\\linear_model\\logistic.py:433: FutureWarning: Default solver will be changed to 'lbfgs' in 0.22. Specify a solver to silence this warning.\n",
      "  FutureWarning)\n",
      "C:\\Anaconda36\\lib\\site-packages\\sklearn\\linear_model\\logistic.py:433: FutureWarning: Default solver will be changed to 'lbfgs' in 0.22. Specify a solver to silence this warning.\n",
      "  FutureWarning)\n",
      "C:\\Anaconda36\\lib\\site-packages\\sklearn\\linear_model\\logistic.py:433: FutureWarning: Default solver will be changed to 'lbfgs' in 0.22. Specify a solver to silence this warning.\n",
      "  FutureWarning)\n",
      "C:\\Anaconda36\\lib\\site-packages\\sklearn\\linear_model\\logistic.py:433: FutureWarning: Default solver will be changed to 'lbfgs' in 0.22. Specify a solver to silence this warning.\n",
      "  FutureWarning)\n",
      "C:\\Anaconda36\\lib\\site-packages\\sklearn\\linear_model\\logistic.py:433: FutureWarning: Default solver will be changed to 'lbfgs' in 0.22. Specify a solver to silence this warning.\n",
      "  FutureWarning)\n",
      "C:\\Anaconda36\\lib\\site-packages\\sklearn\\linear_model\\logistic.py:433: FutureWarning: Default solver will be changed to 'lbfgs' in 0.22. Specify a solver to silence this warning.\n",
      "  FutureWarning)\n",
      "C:\\Anaconda36\\lib\\site-packages\\sklearn\\linear_model\\logistic.py:433: FutureWarning: Default solver will be changed to 'lbfgs' in 0.22. Specify a solver to silence this warning.\n",
      "  FutureWarning)\n",
      "C:\\Anaconda36\\lib\\site-packages\\sklearn\\linear_model\\logistic.py:433: FutureWarning: Default solver will be changed to 'lbfgs' in 0.22. Specify a solver to silence this warning.\n",
      "  FutureWarning)\n",
      "C:\\Anaconda36\\lib\\site-packages\\sklearn\\linear_model\\logistic.py:433: FutureWarning: Default solver will be changed to 'lbfgs' in 0.22. Specify a solver to silence this warning.\n",
      "  FutureWarning)\n",
      "C:\\Anaconda36\\lib\\site-packages\\sklearn\\linear_model\\logistic.py:433: FutureWarning: Default solver will be changed to 'lbfgs' in 0.22. Specify a solver to silence this warning.\n",
      "  FutureWarning)\n",
      "C:\\Anaconda36\\lib\\site-packages\\sklearn\\linear_model\\logistic.py:433: FutureWarning: Default solver will be changed to 'lbfgs' in 0.22. Specify a solver to silence this warning.\n",
      "  FutureWarning)\n",
      "C:\\Anaconda36\\lib\\site-packages\\sklearn\\linear_model\\logistic.py:433: FutureWarning: Default solver will be changed to 'lbfgs' in 0.22. Specify a solver to silence this warning.\n",
      "  FutureWarning)\n"
     ]
    }
   ],
   "source": [
    "#fairlearn - LogReg\n",
    "logreg = LogisticRegression()\n",
    "cons = moments.EO()\n",
    "epsilon = 0.02\n",
    "trainX = train[feature_list]\n",
    "trainY = train['income']\n",
    "trainA = train['attr']\n",
    "\n",
    "res_tuple = red.expgrad(trainX, trainA, trainY, logreg, cons=cons, eps=0.05)\n",
    "res = res_tuple._asdict()\n",
    "best_classifier = res[\"best_classifier\"]\n",
    "logreg.fit(trainX, trainY.ravel())\n",
    "\n",
    "pred = best_classifier(np.array(test[feature_list]))\n",
    "pred[pred > 0.5] = 1\n",
    "pred[pred <= 0.5] = -1\n",
    "\n",
    "data['outcome'] = pred\n",
    "audit = rm.audit(logreg, auditor, features_auditing, protected, yname)\n",
    "audit.standardize(data)\n",
    "violations_fl, delta, delta_sd = audit.get_violations(nboot=1)\n",
    "violations_fl['experiment'] = 'fairlearn'\n",
    "report.loc['fairlearn05', 'delta_adult'] = delta\n",
    "report.loc['fairlearn05', 'delta_sd_adult'] = delta_sd"
   ]
  },
  {
   "cell_type": "code",
   "execution_count": 37,
   "metadata": {},
   "outputs": [
    {
     "data": {
      "text/html": [
       "<div>\n",
       "<style scoped>\n",
       "    .dataframe tbody tr th:only-of-type {\n",
       "        vertical-align: middle;\n",
       "    }\n",
       "\n",
       "    .dataframe tbody tr th {\n",
       "        vertical-align: top;\n",
       "    }\n",
       "\n",
       "    .dataframe thead th {\n",
       "        text-align: right;\n",
       "    }\n",
       "</style>\n",
       "<table border=\"1\" class=\"dataframe\">\n",
       "  <thead>\n",
       "    <tr style=\"text-align: right;\">\n",
       "      <th></th>\n",
       "      <th>age_1</th>\n",
       "      <th>age_0</th>\n",
       "      <th>workclass_1</th>\n",
       "      <th>workclass_0</th>\n",
       "      <th>education_1</th>\n",
       "      <th>education_0</th>\n",
       "      <th>occupation_1</th>\n",
       "      <th>occupation_0</th>\n",
       "      <th>hours-per-week_1</th>\n",
       "      <th>hours-per-week_0</th>\n",
       "      <th>education-num_1</th>\n",
       "      <th>education-num_0</th>\n",
       "      <th>attr_1</th>\n",
       "      <th>attr_0</th>\n",
       "      <th>delta</th>\n",
       "      <th>experiment</th>\n",
       "    </tr>\n",
       "  </thead>\n",
       "  <tbody>\n",
       "    <tr>\n",
       "      <th>0</th>\n",
       "      <td>32.874552</td>\n",
       "      <td>35.897885</td>\n",
       "      <td>2.870968</td>\n",
       "      <td>3.413567</td>\n",
       "      <td>11.353047</td>\n",
       "      <td>11.550693</td>\n",
       "      <td>8.107527</td>\n",
       "      <td>9.376368</td>\n",
       "      <td>43.634409</td>\n",
       "      <td>49.616338</td>\n",
       "      <td>11.462366</td>\n",
       "      <td>11.498906</td>\n",
       "      <td>558</td>\n",
       "      <td>1371</td>\n",
       "      <td>0.696323</td>\n",
       "      <td>fairlearn</td>\n",
       "    </tr>\n",
       "  </tbody>\n",
       "</table>\n",
       "</div>"
      ],
      "text/plain": [
       "       age_1      age_0  workclass_1  workclass_0  education_1  education_0  \\\n",
       "0  32.874552  35.897885     2.870968     3.413567    11.353047    11.550693   \n",
       "\n",
       "   occupation_1  occupation_0  hours-per-week_1  hours-per-week_0  \\\n",
       "0      8.107527      9.376368         43.634409         49.616338   \n",
       "\n",
       "   education-num_1  education-num_0  attr_1  attr_0     delta experiment  \n",
       "0        11.462366        11.498906     558    1371  0.696323  fairlearn  "
      ]
     },
     "execution_count": 37,
     "metadata": {},
     "output_type": "execute_result"
    }
   ],
   "source": [
    "violations_fl"
   ]
  },
  {
   "cell_type": "raw",
   "metadata": {},
   "source": []
  },
  {
   "cell_type": "code",
   "execution_count": null,
   "metadata": {},
   "outputs": [],
   "source": []
  }
 ],
 "metadata": {
  "kernelspec": {
   "display_name": "Python 3",
   "language": "python",
   "name": "python3"
  },
  "language_info": {
   "codemirror_mode": {
    "name": "ipython",
    "version": 3
   },
   "file_extension": ".py",
   "mimetype": "text/x-python",
   "name": "python",
   "nbconvert_exporter": "python",
   "pygments_lexer": "ipython3",
   "version": "3.6.4"
  }
 },
 "nbformat": 4,
 "nbformat_minor": 2
}
