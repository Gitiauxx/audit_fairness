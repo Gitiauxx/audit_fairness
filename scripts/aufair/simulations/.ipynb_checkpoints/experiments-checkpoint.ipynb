{
 "cells": [
  {
   "cell_type": "code",
   "execution_count": 7,
   "metadata": {},
   "outputs": [],
   "source": [
    "from aufair.simulations import test_differential as td\n",
    "from sklearn.tree import DecisionTreeClassifier\n",
    "from sklearn.ensemble import RandomForestClassifier\n",
    "from sklearn.svm import SVC\n",
    "import pandas as pd"
   ]
  },
  {
   "cell_type": "code",
   "execution_count": null,
   "metadata": {},
   "outputs": [
    {
     "name": "stderr",
     "output_type": "stream",
     "text": [
      "c:\\users\\xavier\\fairness\\audit_fairness\\audit_fairness\\env_aufair\\lib\\site-packages\\sklearn\\linear_model\\logistic.py:433: FutureWarning: Default solver will be changed to 'lbfgs' in 0.22. Specify a solver to silence this warning.\n",
      "  FutureWarning)\n"
     ]
    }
   ],
   "source": [
    "# Figure 1: changing sample size\n",
    "result_list = []\n",
    "N = 200000\n",
    "nu_max = 11\n",
    "noise = 0.1\n",
    "\n",
    "dt = DecisionTreeClassifier(max_depth= 10, min_samples_leaf=0.01)\n",
    "\n",
    "for n in [10000, 20000, 50000]:\n",
    "    results = td.test_experiment(N, n, nu_max, dt, nboot=50, sigma_noise=noise)\n",
    "    results['delta_{}'.format(n)] = results['estimated_delta']\n",
    "    results['delta_deviation_{}'.format(n)] = results['delta_deviation']\n",
    "    result_list.append(results[['delta', 'delta_{}'.format(n), 'delta_deviation_{}'.format(n)]])\n",
    "report1 = pd.concat(result_list, axis=1)\n",
    "report1.to_csv('../../../results/synth_exp_sample_size.csv')"
   ]
  },
  {
   "cell_type": "code",
   "execution_count": null,
   "metadata": {},
   "outputs": [],
   "source": [
    "# Figure 2: changing auditor\n",
    "result_list2 = []\n",
    "dt = DecisionTreeClassifier(max_depth= 10, min_samples_leaf=0.01)\n",
    "dt2 = DecisionTreeClassifier(max_depth= 50)\n",
    "svm = SVC()\n",
    "noise = 0.1\n",
    "\n",
    "N = 100000\n",
    "n = 20000\n",
    "\n",
    "auditor_dict ={'DT_5': dt, 'DT_50': dt2, 'SVM': svm}\n",
    "\n",
    "for key in auditor_dict.keys():\n",
    "    results = td.test_experiment(N, n, nu_max, auditor_dict[key], nboot=50, sigma_noise=noise)\n",
    "    results['delta_{}'.format(key)] = results['estimated_delta']\n",
    "    results['delta_deviation_{}'.format(key)] = results['delta_deviation']\n",
    "    result_list2.append(results[['delta', ['delta_{}'.format(key), 'delta_deviation_{}'.format(key)]])\n",
    "report2 = pd.concat(result_list2, axis=1)\n",
    "report2.to_csv('../../../results/synth_exp_sample_classifier.csv')"
   ]
  },
  {
   "cell_type": "code",
   "execution_count": null,
   "metadata": {},
   "outputs": [],
   "source": [
    "# Figure 3: changing the unbalance in the data\n"
   ]
  }
 ],
 "metadata": {
  "kernelspec": {
   "display_name": "Python 3",
   "language": "python",
   "name": "python3"
  },
  "language_info": {
   "codemirror_mode": {
    "name": "ipython",
    "version": 3
   },
   "file_extension": ".py",
   "mimetype": "text/x-python",
   "name": "python",
   "nbconvert_exporter": "python",
   "pygments_lexer": "ipython3",
   "version": "3.6.0"
  }
 },
 "nbformat": 4,
 "nbformat_minor": 2
}
